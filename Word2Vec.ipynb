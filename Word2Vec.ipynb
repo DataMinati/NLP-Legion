{
  "nbformat": 4,
  "nbformat_minor": 0,
  "metadata": {
    "colab": {
      "name": "Word2Vec.ipynb",
      "provenance": [],
      "collapsed_sections": [],
      "authorship_tag": "ABX9TyPqur95X36TcF3AK8Vk/6lI",
      "include_colab_link": true
    },
    "kernelspec": {
      "name": "python3",
      "display_name": "Python 3"
    },
    "language_info": {
      "name": "python"
    }
  },
  "cells": [
    {
      "cell_type": "markdown",
      "metadata": {
        "id": "view-in-github",
        "colab_type": "text"
      },
      "source": [
        "<a href=\"https://colab.research.google.com/github/DataMinati/NLP-Legion/blob/main/Word2Vec.ipynb\" target=\"_parent\"><img src=\"https://colab.research.google.com/assets/colab-badge.svg\" alt=\"Open In Colab\"/></a>"
      ]
    },
    {
      "cell_type": "markdown",
      "metadata": {
        "id": "AvCIzDpONQTo"
      },
      "source": [
        "### Downloading the packages"
      ]
    },
    {
      "cell_type": "code",
      "metadata": {
        "colab": {
          "base_uri": "https://localhost:8080/"
        },
        "id": "ZVTgS7biMHRL",
        "outputId": "a4c888dd-be42-4ef0-eb81-7b47b73de0e9"
      },
      "source": [
        "nltk.download('punkt')\n",
        "nltk.download('stopwords')\n",
        "nltk.download('wordnet')"
      ],
      "execution_count": null,
      "outputs": [
        {
          "output_type": "stream",
          "text": [
            "[nltk_data] Downloading package punkt to /root/nltk_data...\n",
            "[nltk_data]   Unzipping tokenizers/punkt.zip.\n",
            "[nltk_data] Downloading package stopwords to /root/nltk_data...\n",
            "[nltk_data]   Unzipping corpora/stopwords.zip.\n",
            "[nltk_data] Downloading package wordnet to /root/nltk_data...\n",
            "[nltk_data]   Unzipping corpora/wordnet.zip.\n"
          ],
          "name": "stdout"
        },
        {
          "output_type": "execute_result",
          "data": {
            "text/plain": [
              "True"
            ]
          },
          "metadata": {
            "tags": []
          },
          "execution_count": 3
        }
      ]
    },
    {
      "cell_type": "markdown",
      "metadata": {
        "id": "NwrUgThjNM8M"
      },
      "source": [
        "### Importing the necessary libraries"
      ]
    },
    {
      "cell_type": "code",
      "metadata": {
        "id": "IxScLvjFMBsp"
      },
      "source": [
        "import nltk\n",
        "from gensim.models import Word2Vec\n",
        "from nltk.corpus import stopwords\n",
        "import re"
      ],
      "execution_count": null,
      "outputs": []
    },
    {
      "cell_type": "markdown",
      "metadata": {
        "id": "ZFHhXNrpNTYH"
      },
      "source": [
        "### Storing the text"
      ]
    },
    {
      "cell_type": "code",
      "metadata": {
        "id": "NCdSZu1JMWmx"
      },
      "source": [
        "paragraph = \"\"\"I have three visions for India. In 3000 years of our history, people from all over \n",
        "               the world have come and invaded us, captured our lands, conquered our minds. \n",
        "               From Alexander onwards, the Greeks, the Turks, the Moguls, the Portuguese, the British,\n",
        "               the French, the Dutch, all of them came and looted us, took over what was ours. \n",
        "               Yet we have not done this to any other nation. We have not conquered anyone. \n",
        "               We have not grabbed their land, their culture, \n",
        "               their history and tried to enforce our way of life on them. \n",
        "               Why? Because we respect the freedom of others.That is why my \n",
        "               first vision is that of freedom. I believe that India got its first vision of \n",
        "               this in 1857, when we started the War of Independence. It is this freedom that\n",
        "               we must protect and nurture and build on. If we are not free, no one will respect us.\n",
        "               My second vision for India’s development. For fifty years we have been a developing nation.\n",
        "               It is time we see ourselves as a developed nation. We are among the top 5 nations of the world\n",
        "               in terms of GDP. We have a 10 percent growth rate in most areas. Our poverty levels are falling.\n",
        "               Our achievements are being globally recognised today. Yet we lack the self-confidence to\n",
        "               see ourselves as a developed nation, self-reliant and self-assured. Isn’t this incorrect?\n",
        "               I have a third vision. India must stand up to the world. Because I believe that unless India \n",
        "               stands up to the world, no one will respect us. Only strength respects strength. We must be \n",
        "               strong not only as a military power but also as an economic power. Both must go hand-in-hand. \n",
        "               My good fortune was to have worked with three great minds. Dr. Vikram Sarabhai of the Dept. of \n",
        "               space, Professor Satish Dhawan, who succeeded him and Dr. Brahm Prakash, father of nuclear material.\n",
        "               I was lucky to have worked with all three of them closely and consider this the great opportunity of my life. \n",
        "               I see four milestones in my career\"\"\"\n"
      ],
      "execution_count": null,
      "outputs": []
    },
    {
      "cell_type": "markdown",
      "metadata": {
        "id": "2f5LHQuBMhVV"
      },
      "source": [
        "### Preprocessing the data"
      ]
    },
    {
      "cell_type": "code",
      "metadata": {
        "id": "1XyUdVjcMc9Y"
      },
      "source": [
        "# Preprocessing the data\n",
        "text = re.sub(r'\\[[0-9]*\\]',' ',paragraph)\n",
        "text = re.sub(r'\\s+',' ',text)\n",
        "text = text.lower()\n",
        "text = re.sub(r'\\d',' ',text)\n",
        "text = re.sub(r'\\s+',' ',text)"
      ],
      "execution_count": null,
      "outputs": []
    },
    {
      "cell_type": "markdown",
      "metadata": {
        "id": "8nVg2cNZMm1o"
      },
      "source": [
        "### Preparing the dataset"
      ]
    },
    {
      "cell_type": "code",
      "metadata": {
        "id": "eBE5MagXMjH0"
      },
      "source": [
        "# Preparing the dataset\n",
        "sentences = nltk.sent_tokenize(text)\n",
        "\n",
        "sentences = [nltk.word_tokenize(sentence) for sentence in sentences]\n",
        "\n",
        "for i in range(len(sentences)):\n",
        "    sentences[i] = [word for word in sentences[i] if word not in stopwords.words('english')]"
      ],
      "execution_count": null,
      "outputs": []
    },
    {
      "cell_type": "markdown",
      "metadata": {
        "id": "WaHC152-MskC"
      },
      "source": [
        "### Training the Word2Vec model"
      ]
    },
    {
      "cell_type": "code",
      "metadata": {
        "id": "OcJc9TPwMnrZ"
      },
      "source": [
        "# Training the Word2Vec model\n",
        "model = Word2Vec(sentences, min_count=1)\n",
        "words = model.wv.vocab"
      ],
      "execution_count": null,
      "outputs": []
    },
    {
      "cell_type": "markdown",
      "metadata": {
        "id": "BoE38fcVMxYi"
      },
      "source": [
        "### Finding Word Vectors"
      ]
    },
    {
      "cell_type": "code",
      "metadata": {
        "id": "vhIjtkvoMtbc"
      },
      "source": [
        "# Finding Word Vectors\n",
        "vector = model.wv['war']"
      ],
      "execution_count": null,
      "outputs": []
    },
    {
      "cell_type": "markdown",
      "metadata": {
        "id": "UOgbQCeRNEuj"
      },
      "source": [
        "### Displaying the generated vector"
      ]
    },
    {
      "cell_type": "code",
      "metadata": {
        "colab": {
          "base_uri": "https://localhost:8080/"
        },
        "id": "XfPQcoCuM87J",
        "outputId": "d36ae36a-a59e-4e70-afad-320d8d5f98a1"
      },
      "source": [
        "vector"
      ],
      "execution_count": null,
      "outputs": [
        {
          "output_type": "execute_result",
          "data": {
            "text/plain": [
              "array([ 4.3187044e-03,  1.1441094e-03, -4.0284898e-03,  6.2815723e-04,\n",
              "        4.2185169e-03, -1.6024593e-03,  4.4998969e-04,  1.8208042e-03,\n",
              "       -3.6481551e-03,  2.8465285e-03,  2.1435090e-03, -1.4754270e-03,\n",
              "        1.4213342e-04, -3.2676621e-03,  4.2099943e-03,  1.4620677e-03,\n",
              "       -4.8693568e-03, -2.7246675e-03, -2.2768683e-03, -4.4445409e-03,\n",
              "        7.1938062e-04,  1.4672300e-04, -3.3374776e-03,  2.9144442e-04,\n",
              "        1.5026397e-03, -4.2439867e-03, -4.1411049e-04,  4.8503312e-03,\n",
              "       -3.4953032e-03, -1.4187396e-03,  4.7341818e-03,  2.9442221e-04,\n",
              "        1.6983794e-03, -1.1745491e-03, -4.5051868e-03,  4.8875753e-03,\n",
              "        1.2123438e-03, -5.4701802e-04, -4.9386318e-03, -2.7792265e-03,\n",
              "        3.8439882e-04,  3.7986184e-03, -4.8304885e-03, -1.9731948e-03,\n",
              "        4.6880305e-04, -4.3564918e-03,  1.6551467e-03,  4.0274248e-03,\n",
              "       -4.7342181e-03, -1.0031506e-03,  2.2107060e-03, -3.3266349e-03,\n",
              "       -3.3604384e-03, -1.0482469e-03, -2.7131799e-03, -4.2494950e-03,\n",
              "       -4.7660493e-03, -4.0663509e-03, -1.9396496e-03, -1.4517305e-03,\n",
              "        4.4813538e-03,  3.3952983e-03,  3.7059041e-03, -1.4074860e-03,\n",
              "       -3.3802923e-03, -2.6437442e-03, -2.7790694e-03,  4.4031194e-03,\n",
              "       -3.8302012e-03, -4.7897946e-04,  6.4566592e-04,  3.0168786e-03,\n",
              "        3.8336525e-03,  4.7171968e-03, -2.9709197e-03, -1.9008124e-03,\n",
              "        2.2741999e-03,  1.1790677e-03,  2.3758519e-03, -3.1278026e-03,\n",
              "       -3.4638881e-03, -4.0646880e-03, -5.8951945e-04,  1.4745796e-03,\n",
              "        7.9673168e-04, -9.1407204e-04,  2.1151446e-03, -1.1630742e-03,\n",
              "       -3.3582628e-04,  3.8385112e-03,  4.7517703e-03, -5.6034605e-06,\n",
              "       -1.7644529e-03, -4.7790408e-03,  3.4136255e-03, -3.4718099e-03,\n",
              "        5.9856492e-04, -3.7810910e-03, -1.1839427e-03, -1.9176942e-03],\n",
              "      dtype=float32)"
            ]
          },
          "metadata": {
            "tags": []
          },
          "execution_count": 11
        }
      ]
    },
    {
      "cell_type": "markdown",
      "metadata": {
        "id": "yXC6CVDfM4CJ"
      },
      "source": [
        "### Most similar words"
      ]
    },
    {
      "cell_type": "code",
      "metadata": {
        "id": "7k87wnC9Mz-j"
      },
      "source": [
        "# Most similar words\n",
        "similar = model.wv.most_similar('vikram')"
      ],
      "execution_count": null,
      "outputs": []
    },
    {
      "cell_type": "markdown",
      "metadata": {
        "id": "QTVGziI6NIN7"
      },
      "source": [
        "### Displaying the result"
      ]
    },
    {
      "cell_type": "code",
      "metadata": {
        "colab": {
          "base_uri": "https://localhost:8080/"
        },
        "id": "wzQval0NM4xb",
        "outputId": "66ec2125-b432-44e4-a27b-a5616cb05a6c"
      },
      "source": [
        "similar"
      ],
      "execution_count": null,
      "outputs": [
        {
          "output_type": "execute_result",
          "data": {
            "text/plain": [
              "[('falling', 0.18234989047050476),\n",
              " ('opportunity', 0.17669443786144257),\n",
              " ('alexander', 0.17659485340118408),\n",
              " ('dr.', 0.1569170206785202),\n",
              " ('unless', 0.15266892313957214),\n",
              " ('satish', 0.15106616914272308),\n",
              " ('done', 0.14432242512702942),\n",
              " ('nations', 0.14340850710868835),\n",
              " ('lucky', 0.13201239705085754),\n",
              " ('minds', 0.12165196985006332)]"
            ]
          },
          "metadata": {
            "tags": []
          },
          "execution_count": 10
        }
      ]
    }
  ]
}